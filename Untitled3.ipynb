{
  "nbformat": 4,
  "nbformat_minor": 0,
  "metadata": {
    "colab": {
      "provenance": [],
      "authorship_tag": "ABX9TyPfn5pN2vQFUOI7XURw5dg2",
      "include_colab_link": true
    },
    "kernelspec": {
      "name": "python3",
      "display_name": "Python 3"
    },
    "language_info": {
      "name": "python"
    }
  },
  "cells": [
    {
      "cell_type": "markdown",
      "metadata": {
        "id": "view-in-github",
        "colab_type": "text"
      },
      "source": [
        "<a href=\"https://colab.research.google.com/github/Juanvidalibarrondo/marina-la-roja/blob/main/Untitled3.ipynb\" target=\"_parent\"><img src=\"https://colab.research.google.com/assets/colab-badge.svg\" alt=\"Open In Colab\"/></a>"
      ]
    },
    {
      "cell_type": "code",
      "execution_count": null,
      "metadata": {
        "colab": {
          "base_uri": "https://localhost:8080/"
        },
        "id": "BRabMmQLI5cP",
        "outputId": "1901de56-530f-4dc8-fb46-ee4728355cc7"
      },
      "outputs": [
        {
          "output_type": "stream",
          "name": "stdout",
          "text": [
            "introduzca su año de nacimiento: 222\n",
            "en 2030 tendras 1808\n",
            "introduce tu nombre: juan\n",
            "introduce tu primer apellido: vidal\n",
            "introduce tu segundo apellido: ibarrondo\n",
            "tu nombre completo es: \n",
            "juan vidal ibarrondo \n"
          ]
        }
      ],
      "source": [
        "#Cuantos años cumpliras en 2030\n",
        "a=int(input(\"introduzca su año de nacimiento: \"))\n",
        "print(\"en 2030 tendras\",2030-a)\n",
        "\n",
        "#Nombre y apellidos\n",
        "a=(input(\"introduce tu nombre: \"))\n",
        "b=(input(\"introduce tu primer apellido: \"))\n",
        "c=(input(\"introduce tu segundo apellido: \"))\n",
        "print(\"tu nombre completo es: \"+\"\\n\"+a+\" \"+b+\" \"+c+\" \")"
      ]
    }
  ]
}